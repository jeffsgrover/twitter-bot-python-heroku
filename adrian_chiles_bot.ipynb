{
 "cells": [
  {
   "cell_type": "code",
   "execution_count": 1,
   "id": "7ef86214-df51-42fd-8634-87ddef1dfd89",
   "metadata": {},
   "outputs": [],
   "source": [
    "import requests, itertools, markovify, json\n",
    "from bs4 import BeautifulSoup"
   ]
  },
  {
   "cell_type": "code",
   "execution_count": 2,
   "id": "47fb0278-288d-42e8-9fe9-a32489ed0e5e",
   "metadata": {},
   "outputs": [],
   "source": [
    "r0    = requests.get('https://www.theguardian.com/profile/adrian-chiles')\n",
    "soup0 = BeautifulSoup(r0.content).find_all('span',attrs={'class':'js-headline-text'})\n",
    "\n",
    "headlines = [soup0]"
   ]
  },
  {
   "cell_type": "code",
   "execution_count": 3,
   "id": "fee465e4-c080-496d-9435-5043f83645b1",
   "metadata": {},
   "outputs": [],
   "source": [
    "for i in range(2,13):\n",
    "    r = requests.get('https://www.theguardian.com/profile/adrian-chiles?page='+str(i))\n",
    "    headlines.append(BeautifulSoup(r.content).find_all('span', attrs={'class':'js-headline-text'}))"
   ]
  },
  {
   "cell_type": "code",
   "execution_count": 4,
   "id": "f4229c6e-8657-46d6-be75-1abca8e0492b",
   "metadata": {},
   "outputs": [],
   "source": [
    "headlines = [i for i in itertools.chain(*headlines)]\n",
    "headlines = [i.contents for i in headlines]\n",
    "headlines = [i for i in itertools.chain(*headlines)]"
   ]
  },
  {
   "cell_type": "code",
   "execution_count": 5,
   "id": "acdbd1af-a649-48e2-84bc-521b63f1d4d9",
   "metadata": {},
   "outputs": [],
   "source": [
    "headlines_newline = '\\n'.join(headlines)"
   ]
  },
  {
   "cell_type": "code",
   "execution_count": 6,
   "id": "d33227e6-3988-4669-853c-e4c492da7cd8",
   "metadata": {},
   "outputs": [],
   "source": [
    "text_model = markovify.NewlineText(headlines_newline, 2)"
   ]
  },
  {
   "cell_type": "code",
   "execution_count": 7,
   "id": "cccbeb84-4ca6-4424-82af-114c33a6ab53",
   "metadata": {},
   "outputs": [
    {
     "name": "stdout",
     "output_type": "stream",
     "text": [
      "In the wastelands of Birmingham and Manchester, buddleia is a vision of hell and mine is Glastonbury\n",
      "An ear and nostril waxing is exquisitely painful – but draw comfort from knowing your summer will come\n",
      "Telling meat-eaters bacon is off the menu won’t work – here’s what we heavy drinkers can learn from them\n",
      "What should you give up? What Theresa May and David Bowie have taught me about exams? It’s hard work, not grades, that really fuse us together in football – and a challenge\n",
      "My lockdown baking obsession got out of control – luckily I've discovered the two questions that can unlock a snapshot of someone's life\n"
     ]
    }
   ],
   "source": [
    "for i in range(5):\n",
    "    print(text_model.make_short_sentence(280))"
   ]
  },
  {
   "cell_type": "code",
   "execution_count": 8,
   "id": "f20874cf-901d-462b-8659-8a9fd1cf3569",
   "metadata": {},
   "outputs": [],
   "source": [
    "# f = open(\"headlines.txt\", \"w+\")\n",
    "# for i in range(50000):\n",
    "#     f.write(text_model.make_short_sentence(280))\n",
    "# f.close()"
   ]
  },
  {
   "cell_type": "code",
   "execution_count": 9,
   "id": "06938483-826c-4d86-bb80-989897231cbc",
   "metadata": {},
   "outputs": [],
   "source": [
    "headlines = [text_model.make_short_sentence(280) for f in range(50000)]"
   ]
  },
  {
   "cell_type": "code",
   "execution_count": 11,
   "id": "794d0489-3ab9-426b-ab3e-7b8fd044f73f",
   "metadata": {},
   "outputs": [],
   "source": [
    "headlines_json = {\"headlines\": [{\"headline\":t} for t in headlines]}"
   ]
  },
  {
   "cell_type": "code",
   "execution_count": 12,
   "id": "6c82f16a-de0e-4d6f-ab5c-d172be6bfb59",
   "metadata": {},
   "outputs": [],
   "source": [
    "with open('headlines.json','w') as outfile:\n",
    "    json.dump(headlines_json, outfile)"
   ]
  },
  {
   "cell_type": "code",
   "execution_count": null,
   "id": "cb309a8c-b0f5-46c9-a939-1f3e33e1673e",
   "metadata": {},
   "outputs": [],
   "source": []
  },
  {
   "cell_type": "code",
   "execution_count": null,
   "id": "aa934664-c9e7-4f1c-ab49-7126ffbfbfac",
   "metadata": {},
   "outputs": [],
   "source": []
  }
 ],
 "metadata": {
  "kernelspec": {
   "display_name": "Python 3 (ipykernel)",
   "language": "python",
   "name": "python3"
  },
  "language_info": {
   "codemirror_mode": {
    "name": "ipython",
    "version": 3
   },
   "file_extension": ".py",
   "mimetype": "text/x-python",
   "name": "python",
   "nbconvert_exporter": "python",
   "pygments_lexer": "ipython3",
   "version": "3.9.9"
  }
 },
 "nbformat": 4,
 "nbformat_minor": 5
}
